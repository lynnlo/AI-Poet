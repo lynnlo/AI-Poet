{
  "cells": [
    {
      "cell_type": "code",
      "source": [
        "from google.colab import drive\n",
        "drive.mount('/content/drive/')\n",
        "%cd /content/drive/MyDrive/ml/Poetry"
      ],
      "metadata": {
        "colab": {
          "base_uri": "https://localhost:8080/"
        },
        "id": "pEe93eT6jwTm",
        "outputId": "a1faf2b8-de58-41d1-8b5e-8ded665c7211"
      },
      "execution_count": null,
      "outputs": [
        {
          "output_type": "stream",
          "name": "stdout",
          "text": [
            "Drive already mounted at /content/drive/; to attempt to forcibly remount, call drive.mount(\"/content/drive/\", force_remount=True).\n",
            "/content/drive/MyDrive/ml/Poetry\n"
          ]
        }
      ]
    },
    {
      "cell_type": "code",
      "execution_count": null,
      "metadata": {
        "id": "ouMCIh0mAcll"
      },
      "outputs": [],
      "source": [
        "import csv\n",
        "\n",
        "from tensorflow.keras.preprocessing.sequence import pad_sequences\n",
        "from tensorflow.keras.layers import Embedding, LSTM, Dense, Dropout, Bidirectional\n",
        "from tensorflow.keras.preprocessing.text import Tokenizer\n",
        "from tensorflow.keras.models import Sequential, load_model\n",
        "from tensorflow.keras.optimizers import Adam\n",
        "from tensorflow.keras import regularizers\n",
        "import tensorflow.keras.utils as ku \n",
        "import numpy as np"
      ]
    },
    {
      "cell_type": "code",
      "execution_count": null,
      "metadata": {
        "id": "68lDfG1tAclo"
      },
      "outputs": [],
      "source": [
        "# Load Data\n",
        "titles = []\n",
        "poems = []\n",
        "\n",
        "with open('PoetryFoundationData.csv', encoding='utf8') as data_raw:\n",
        "\tdata_csv = csv.reader(data_raw)\n",
        "\tfor row in data_csv:\n",
        "\t\tif (row[0] == ''): # Skip empty rows\n",
        "\t\t\tcontinue\n",
        "\t\tpoem = row[2]\n",
        "\t\tpoems.append(poem)"
      ]
    },
    {
      "cell_type": "code",
      "execution_count": null,
      "metadata": {
        "id": "EEI5yJ5AAclp"
      },
      "outputs": [],
      "source": [
        "# Clean Data\n",
        "poems_data = poems[:600]\n",
        "\n",
        "# Tokenize Data\n",
        "tokenizer = Tokenizer(oov_token=\"<OOV>\", filters='')\n",
        "tokenizer.fit_on_texts(poems_data) # Create dictionary\n",
        "\n",
        "total_words = len(tokenizer.word_index) + 1\n",
        "\n",
        "# Sequence Data (Only use for small datasets)\n",
        "sequence_data = []\n",
        "for poem in poems_data:\n",
        "\tsequence = tokenizer.texts_to_sequences([poem])[0] # Convert to sequence\n",
        "\tfor i in range(1, min(len(sequence), 80)): # Create pairs out of sequence\n",
        "\t\tn_gram_sequence = sequence[:i+1]\n",
        "\t\tsequence_data.append(n_gram_sequence)\n",
        "\n",
        "# Pad Data\n",
        "max_length = max(len(x) for x in sequence_data)\n",
        "sequence_data = pad_sequences(sequence_data, maxlen=max_length, padding='pre')"
      ]
    },
    {
      "cell_type": "code",
      "source": [
        "# Save Tokens\n",
        "open(\"tokens_v4.json\", \"w\").write(tokenizer.to_json())\n",
        "\n",
        "max_length"
      ],
      "metadata": {
        "colab": {
          "base_uri": "https://localhost:8080/"
        },
        "id": "cFzMNc4Qf0lp",
        "outputId": "20d58a6b-e93b-47d7-97cf-aca186dc793f"
      },
      "execution_count": null,
      "outputs": [
        {
          "output_type": "execute_result",
          "data": {
            "text/plain": [
              "80"
            ]
          },
          "metadata": {},
          "execution_count": 5
        }
      ]
    },
    {
      "cell_type": "code",
      "execution_count": null,
      "metadata": {
        "id": "PUu1dN8sAclq"
      },
      "outputs": [],
      "source": [
        "# Split Data\n",
        "data, labels = sequence_data[:,:-1], sequence_data[:,-1] # Split into data and labels\n",
        "labels = ku.to_categorical(labels, num_classes=total_words) # Convert to one-hot encoding"
      ]
    },
    {
      "cell_type": "code",
      "source": [
        "model = load_model('ai_poet_v3.h5')"
      ],
      "metadata": {
        "id": "R2XGQ_IVLjig"
      },
      "execution_count": null,
      "outputs": []
    },
    {
      "cell_type": "code",
      "execution_count": null,
      "metadata": {
        "id": "1m0swe2XAclq"
      },
      "outputs": [],
      "source": [
        "# Build Model\n",
        "model = Sequential()\n",
        "model.add(Embedding(total_words, 80, input_length=max_length-1))\n",
        "model.add(Bidirectional(LSTM(120, return_sequences=True)))\n",
        "model.add(Dropout(0.1))\n",
        "model.add(LSTM(80))\n",
        "model.add(Dense(total_words, activation='softmax'))\n",
        "\n",
        "model.compile(loss='categorical_crossentropy', optimizer='adam', metrics=['accuracy'])"
      ]
    },
    {
      "cell_type": "code",
      "execution_count": null,
      "metadata": {
        "id": "YO519PdGAclr",
        "colab": {
          "base_uri": "https://localhost:8080/"
        },
        "outputId": "fc627505-c539-4f55-e9eb-a17d214ba4b2"
      },
      "outputs": [
        {
          "output_type": "stream",
          "name": "stdout",
          "text": [
            "Epoch 1/5\n",
            "703/703 [==============================] - 400s 559ms/step - loss: 8.6421 - accuracy: 0.0576\n",
            "Epoch 2/5\n",
            "703/703 [==============================] - 392s 558ms/step - loss: 7.7790 - accuracy: 0.0586\n",
            "Epoch 3/5\n",
            "703/703 [==============================] - 392s 558ms/step - loss: 7.4933 - accuracy: 0.0659\n",
            "Epoch 4/5\n",
            "703/703 [==============================] - 389s 554ms/step - loss: 7.2835 - accuracy: 0.0693\n",
            "Epoch 5/5\n",
            "703/703 [==============================] - 397s 564ms/step - loss: 7.0353 - accuracy: 0.0802\n"
          ]
        }
      ],
      "source": [
        "# Train Model\n",
        "history = model.fit(data, labels, epochs=5, batch_size=64, verbose=1)"
      ]
    },
    {
      "cell_type": "code",
      "execution_count": null,
      "metadata": {
        "colab": {
          "base_uri": "https://localhost:8080/",
          "height": 545
        },
        "id": "tig0vKDEAcls",
        "outputId": "a7408067-05e7-45e3-8911-0c3306444735"
      },
      "outputs": [
        {
          "output_type": "display_data",
          "data": {
            "text/plain": [
              "<Figure size 432x288 with 1 Axes>"
            ],
            "image/png": "[encoded data removed]"
          },
          "metadata": {
            "needs_background": "light"
          }
        },
        {
          "output_type": "display_data",
          "data": {
            "text/plain": [
              "<Figure size 432x288 with 1 Axes>"
            ],
            "image/png": "[encoded data removed]"
          },
          "metadata": {
            "needs_background": "light"
          }
        }
      ],
      "source": [
        "import matplotlib.pyplot as plt\n",
        "acc = history.history['accuracy']\n",
        "loss = history.history['loss']\n",
        "epochs = range(len(acc))\n",
        "plt.plot(epochs, acc, 'b', label='Training accuracy')\n",
        "plt.title('Training accuracy')\n",
        "plt.figure()\n",
        "plt.plot(epochs, loss, 'b', label='Training Loss')\n",
        "plt.title('Training loss')\n",
        "plt.legend()\n",
        "plt.show()"
      ]
    },
    {
      "cell_type": "code",
      "execution_count": null,
      "metadata": {
        "id": "xRdLMw7aAclt"
      },
      "outputs": [],
      "source": [
        "# Predict Outcome\n",
        "message = 'the rose'\n",
        "size = 25\n",
        "\n",
        "for _ in range(size):\n",
        "\tsequence = tokenizer.texts_to_sequences([message])[0]\n",
        "\tsequence = pad_sequences([sequence], maxlen=max_length-1, padding='pre')\n",
        "\tprediction = np.argmax(model.predict(sequence), axis=1)\n",
        "\tindex = prediction[0]\n",
        "\tmessage += ' ' + tokenizer.index_word[index]"
      ]
    },
    {
      "cell_type": "code",
      "execution_count": null,
      "metadata": {
        "colab": {
          "base_uri": "https://localhost:8080/",
          "height": 35
        },
        "id": "sTIlBnyoAclt",
        "outputId": "6ffdd689-38d6-43dc-e408-ebc6590739fe"
      },
      "outputs": [
        {
          "output_type": "execute_result",
          "data": {
            "text/plain": [
              "'the tree of lobsters;i am likewise at peace in my little cottagetrying to become mr. five willows. i figure a crabapple is useful to a pencil—its long,'"
            ],
            "application/vnd.google.colaboratory.intrinsic+json": {
              "type": "string"
            }
          },
          "metadata": {},
          "execution_count": 29
        }
      ],
      "source": [
        "message"
      ]
    },
    {
      "cell_type": "code",
      "source": [
        "model.save(\"ai_poet_v3_3.h5\", save_format=\"h5\")"
      ],
      "metadata": {
        "id": "6cuZ3C6miqq3"
      },
      "execution_count": null,
      "outputs": []
    }
  ],
  "metadata": {
    "kernelspec": {
      "display_name": "Python 3.7.6 ('ml')",
      "language": "python",
      "name": "python3"
    },
    "language_info": {
      "codemirror_mode": {
        "name": "ipython",
        "version": 3
      },
      "file_extension": ".py",
      "mimetype": "text/x-python",
      "name": "python",
      "nbconvert_exporter": "python",
      "pygments_lexer": "ipython3",
      "version": "3.7.6"
    },
    "orig_nbformat": 4,
    "vscode": {
      "interpreter": {
        "hash": "99cb5f365dcbb215e24de70d2dfef2ff7fc819860270d6d1736b61d26d60e744"
      }
    },
    "colab": {
      "name": "Poetry.ipynb",
      "provenance": [],
      "collapsed_sections": []
    },
    "accelerator": "TPU",
    "gpuClass": "standard"
  },
  "nbformat": 4,
  "nbformat_minor": 0
}