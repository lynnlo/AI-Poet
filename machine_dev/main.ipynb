{
 "cells": [
  {
   "cell_type": "code",
   "execution_count": 2,
   "metadata": {},
   "outputs": [],
   "source": [
    "import csv\n",
    "import json\n",
    "\n",
    "from tensorflow.keras.preprocessing.sequence import pad_sequences\n",
    "from tensorflow.keras.layers import Embedding, LSTM, Dense, Dropout, Bidirectional\n",
    "from tensorflow.keras.preprocessing.text import Tokenizer\n",
    "from tensorflow.keras.models import Sequential\n",
    "from tensorflow.keras.optimizers import Adam\n",
    "from tensorflow.keras import regularizers\n",
    "import tensorflow.keras.utils as ku \n",
    "import numpy as np"
   ]
  },
  {
   "cell_type": "code",
   "execution_count": 3,
   "metadata": {},
   "outputs": [],
   "source": [
    "# Load Data\n",
    "titles = []\n",
    "poems = []\n",
    "\n",
    "with open('PoetryFoundationData.csv', encoding='utf8') as data_raw:\n",
    "\tdata_csv = csv.reader(data_raw)\n",
    "\tfor row in data_csv:\n",
    "\t\tif (row[0] == ''): # Skip empty rows\n",
    "\t\t\tcontinue\n",
    "\t\tpoem = row[2]\n",
    "\t\tpoem = poem.replace('\\n', '').replace('  ', ' ') # Clean whitespace\n",
    "\t\tpoems.append(poem)"
   ]
  },
  {
   "cell_type": "code",
   "execution_count": 4,
   "metadata": {},
   "outputs": [],
   "source": [
    "# Clean Data\n",
    "poems_data = poems[:200]\n",
    "\n",
    "# Tokenize Data\n",
    "tokenizer = Tokenizer(oov_token=\"<OOV>\")\n",
    "tokenizer.fit_on_texts(poems_data) # Create dictionary\n",
    "\n",
    "total_words = len(tokenizer.word_index) + 1\n",
    "\n",
    "# Sequence Data (Only use for small datasets)\n",
    "sequence_data = []\n",
    "for poem in poems_data:\n",
    "\tsequence = tokenizer.texts_to_sequences([poem])[0] # Convert to sequence\n",
    "\tfor i in range(1, min(len(sequence), 80)): # Create pairs out of sequence\n",
    "\t\tn_gram_sequence = sequence[:i+1]\n",
    "\t\tsequence_data.append(n_gram_sequence)\n",
    "\n",
    "# Pad Data\n",
    "max_length = max(len(x) for x in sequence_data)\n",
    "sequence_data = pad_sequences(sequence_data, maxlen=max_length, padding='pre')"
   ]
  },
  {
   "cell_type": "code",
   "execution_count": 5,
   "metadata": {},
   "outputs": [
    {
     "data": {
      "text/plain": [
       "80"
      ]
     },
     "execution_count": 5,
     "metadata": {},
     "output_type": "execute_result"
    }
   ],
   "source": [
    "max_length"
   ]
  },
  {
   "cell_type": "code",
   "execution_count": 13,
   "metadata": {},
   "outputs": [
    {
     "data": {
      "text/plain": [
       "876741"
      ]
     },
     "execution_count": 13,
     "metadata": {},
     "output_type": "execute_result"
    }
   ],
   "source": [
    "open(\"tokens.json\", \"w\").write(tokenizer.to_json())"
   ]
  },
  {
   "cell_type": "code",
   "execution_count": 9,
   "metadata": {},
   "outputs": [],
   "source": [
    "# Split Data\n",
    "data, labels = sequence_data[:,:-1], sequence_data[:,-1] # Split into data and labels\n",
    "labels = ku.to_categorical(labels, num_classes=total_words) # Convert to one-hot encoding"
   ]
  },
  {
   "cell_type": "code",
   "execution_count": 10,
   "metadata": {},
   "outputs": [],
   "source": [
    "# Build Model\n",
    "model = Sequential()\n",
    "model.add(Embedding(total_words, 128, input_length=max_length-1))\n",
    "model.add(Bidirectional(LSTM(192, return_sequences=True)))\n",
    "model.add(Dropout(0.2))\n",
    "model.add(Bidirectional(LSTM(128)))\n",
    "model.add(Dense(total_words, activation='softmax'))\n",
    "\n",
    "model.compile(loss='categorical_crossentropy', optimizer='adam', metrics=['accuracy'])"
   ]
  },
  {
   "cell_type": "code",
   "execution_count": 11,
   "metadata": {},
   "outputs": [
    {
     "name": "stdout",
     "output_type": "stream",
     "text": [
      "Epoch 1/100\n",
      "7/7 [==============================] - 7s 325ms/step - loss: 4.9743 - accuracy: 0.0542\n",
      "Epoch 2/100\n",
      "7/7 [==============================] - 2s 294ms/step - loss: 4.8293 - accuracy: 0.0896\n",
      "Epoch 3/100\n",
      "7/7 [==============================] - 2s 298ms/step - loss: 4.7104 - accuracy: 0.0833\n",
      "Epoch 4/100\n",
      "7/7 [==============================] - 2s 308ms/step - loss: 4.6001 - accuracy: 0.1038\n",
      "Epoch 5/100\n",
      "7/7 [==============================] - 2s 299ms/step - loss: 4.5027 - accuracy: 0.1172\n",
      "Epoch 6/100\n",
      "7/7 [==============================] - 2s 312ms/step - loss: 4.4704 - accuracy: 0.0807\n",
      "Epoch 7/100\n",
      "7/7 [==============================] - 2s 309ms/step - loss: 4.2798 - accuracy: 0.1018\n",
      "Epoch 8/100\n",
      "7/7 [==============================] - 2s 308ms/step - loss: 4.1432 - accuracy: 0.1166\n",
      "Epoch 9/100\n",
      "7/7 [==============================] - 2s 316ms/step - loss: 4.0826 - accuracy: 0.1222\n",
      "Epoch 10/100\n",
      "7/7 [==============================] - 2s 307ms/step - loss: 4.0263 - accuracy: 0.1113\n",
      "Epoch 11/100\n",
      "7/7 [==============================] - 2s 310ms/step - loss: 3.9879 - accuracy: 0.1094\n",
      "Epoch 12/100\n",
      "7/7 [==============================] - 2s 309ms/step - loss: 3.8573 - accuracy: 0.1304\n",
      "Epoch 13/100\n",
      "7/7 [==============================] - 2s 308ms/step - loss: 3.7970 - accuracy: 0.1209\n",
      "Epoch 14/100\n",
      "7/7 [==============================] - 2s 315ms/step - loss: 3.7904 - accuracy: 0.1068\n",
      "Epoch 15/100\n",
      "7/7 [==============================] - 2s 341ms/step - loss: 3.6835 - accuracy: 0.1207\n",
      "Epoch 16/100\n",
      "7/7 [==============================] - 2s 338ms/step - loss: 3.6558 - accuracy: 0.1294\n",
      "Epoch 17/100\n",
      "7/7 [==============================] - 2s 319ms/step - loss: 3.6009 - accuracy: 0.1309\n",
      "Epoch 18/100\n",
      "7/7 [==============================] - 2s 303ms/step - loss: 3.5151 - accuracy: 0.1506\n",
      "Epoch 19/100\n",
      "7/7 [==============================] - 2s 305ms/step - loss: 3.5315 - accuracy: 0.1150\n",
      "Epoch 20/100\n",
      "7/7 [==============================] - 2s 304ms/step - loss: 3.4756 - accuracy: 0.1259\n",
      "Epoch 21/100\n",
      "7/7 [==============================] - 2s 315ms/step - loss: 3.4015 - accuracy: 0.1494\n",
      "Epoch 22/100\n",
      "7/7 [==============================] - 2s 306ms/step - loss: 3.4313 - accuracy: 0.1276\n",
      "Epoch 23/100\n",
      "7/7 [==============================] - 2s 319ms/step - loss: 3.4061 - accuracy: 0.1264\n",
      "Epoch 24/100\n",
      "7/7 [==============================] - 3s 372ms/step - loss: 3.3225 - accuracy: 0.1448\n",
      "Epoch 25/100\n",
      "7/7 [==============================] - 2s 332ms/step - loss: 3.3909 - accuracy: 0.1279\n",
      "Epoch 26/100\n",
      "7/7 [==============================] - 2s 333ms/step - loss: 3.3039 - accuracy: 0.1070\n",
      "Epoch 27/100\n",
      "7/7 [==============================] - 2s 319ms/step - loss: 3.2317 - accuracy: 0.1704\n",
      "Epoch 28/100\n",
      "7/7 [==============================] - 2s 321ms/step - loss: 3.1776 - accuracy: 0.1353\n",
      "Epoch 29/100\n",
      "7/7 [==============================] - 2s 327ms/step - loss: 3.1136 - accuracy: 0.1402\n",
      "Epoch 30/100\n",
      "7/7 [==============================] - 2s 316ms/step - loss: 3.1826 - accuracy: 0.1488\n",
      "Epoch 31/100\n",
      "7/7 [==============================] - 2s 307ms/step - loss: 3.1494 - accuracy: 0.1778\n",
      "Epoch 32/100\n",
      "7/7 [==============================] - 2s 297ms/step - loss: 3.0644 - accuracy: 0.1652\n",
      "Epoch 33/100\n",
      "7/7 [==============================] - 2s 288ms/step - loss: 3.0406 - accuracy: 0.1703\n",
      "Epoch 34/100\n",
      "7/7 [==============================] - 2s 298ms/step - loss: 2.9507 - accuracy: 0.1914\n",
      "Epoch 35/100\n",
      "7/7 [==============================] - 2s 294ms/step - loss: 2.9474 - accuracy: 0.2044\n",
      "Epoch 36/100\n",
      "7/7 [==============================] - 2s 299ms/step - loss: 2.8162 - accuracy: 0.2223\n",
      "Epoch 37/100\n",
      "7/7 [==============================] - 2s 295ms/step - loss: 2.9096 - accuracy: 0.1344\n",
      "Epoch 38/100\n",
      "7/7 [==============================] - 2s 298ms/step - loss: 2.8499 - accuracy: 0.1980\n",
      "Epoch 39/100\n",
      "7/7 [==============================] - 2s 301ms/step - loss: 2.7605 - accuracy: 0.2120\n",
      "Epoch 40/100\n",
      "7/7 [==============================] - 2s 332ms/step - loss: 2.7933 - accuracy: 0.1807\n",
      "Epoch 41/100\n",
      "7/7 [==============================] - 2s 311ms/step - loss: 2.6901 - accuracy: 0.2115\n",
      "Epoch 42/100\n",
      "7/7 [==============================] - 2s 296ms/step - loss: 2.7162 - accuracy: 0.1703\n",
      "Epoch 43/100\n",
      "7/7 [==============================] - 2s 308ms/step - loss: 2.7025 - accuracy: 0.2258\n",
      "Epoch 44/100\n",
      "7/7 [==============================] - 2s 298ms/step - loss: 2.6582 - accuracy: 0.2462\n",
      "Epoch 45/100\n",
      "7/7 [==============================] - 2s 292ms/step - loss: 2.5170 - accuracy: 0.2628\n",
      "Epoch 46/100\n",
      "7/7 [==============================] - 2s 296ms/step - loss: 2.5737 - accuracy: 0.2209\n",
      "Epoch 47/100\n",
      "7/7 [==============================] - 2s 287ms/step - loss: 2.4749 - accuracy: 0.2451\n",
      "Epoch 48/100\n",
      "7/7 [==============================] - 2s 306ms/step - loss: 2.4411 - accuracy: 0.2728\n",
      "Epoch 49/100\n",
      "7/7 [==============================] - 2s 293ms/step - loss: 2.5139 - accuracy: 0.2231\n",
      "Epoch 50/100\n",
      "7/7 [==============================] - 2s 289ms/step - loss: 2.4626 - accuracy: 0.2888\n",
      "Epoch 51/100\n",
      "7/7 [==============================] - 2s 293ms/step - loss: 2.3439 - accuracy: 0.2904\n",
      "Epoch 52/100\n",
      "7/7 [==============================] - 2s 301ms/step - loss: 2.2973 - accuracy: 0.3051\n",
      "Epoch 53/100\n",
      "7/7 [==============================] - 2s 288ms/step - loss: 2.2654 - accuracy: 0.3086\n",
      "Epoch 54/100\n",
      "7/7 [==============================] - 2s 290ms/step - loss: 2.2307 - accuracy: 0.3575\n",
      "Epoch 55/100\n",
      "7/7 [==============================] - 2s 301ms/step - loss: 2.2135 - accuracy: 0.3391\n",
      "Epoch 56/100\n",
      "7/7 [==============================] - 2s 299ms/step - loss: 2.1645 - accuracy: 0.3586\n",
      "Epoch 57/100\n",
      "7/7 [==============================] - 2s 304ms/step - loss: 2.1028 - accuracy: 0.3489\n",
      "Epoch 58/100\n",
      "7/7 [==============================] - 2s 336ms/step - loss: 2.0862 - accuracy: 0.3823\n",
      "Epoch 59/100\n",
      "7/7 [==============================] - 2s 323ms/step - loss: 2.0933 - accuracy: 0.3801\n",
      "Epoch 60/100\n",
      "7/7 [==============================] - 2s 313ms/step - loss: 2.0591 - accuracy: 0.4040\n",
      "Epoch 61/100\n",
      "7/7 [==============================] - 2s 322ms/step - loss: 1.9611 - accuracy: 0.4033\n",
      "Epoch 62/100\n",
      "7/7 [==============================] - 2s 329ms/step - loss: 1.9621 - accuracy: 0.4294\n",
      "Epoch 63/100\n",
      "7/7 [==============================] - 2s 329ms/step - loss: 1.9456 - accuracy: 0.3857\n",
      "Epoch 64/100\n",
      "7/7 [==============================] - 2s 300ms/step - loss: 1.9288 - accuracy: 0.4518\n",
      "Epoch 65/100\n",
      "7/7 [==============================] - 2s 286ms/step - loss: 1.8864 - accuracy: 0.4223\n",
      "Epoch 66/100\n",
      "7/7 [==============================] - 2s 288ms/step - loss: 1.8387 - accuracy: 0.4824\n",
      "Epoch 67/100\n",
      "7/7 [==============================] - 2s 285ms/step - loss: 1.8416 - accuracy: 0.4952\n",
      "Epoch 68/100\n",
      "7/7 [==============================] - 2s 304ms/step - loss: 1.8162 - accuracy: 0.4655\n",
      "Epoch 69/100\n",
      "7/7 [==============================] - 2s 325ms/step - loss: 1.8113 - accuracy: 0.4932\n",
      "Epoch 70/100\n",
      "7/7 [==============================] - 2s 333ms/step - loss: 1.7481 - accuracy: 0.5480\n",
      "Epoch 71/100\n",
      "7/7 [==============================] - 2s 324ms/step - loss: 1.7326 - accuracy: 0.5647\n",
      "Epoch 72/100\n",
      "7/7 [==============================] - 2s 295ms/step - loss: 1.6865 - accuracy: 0.5161\n",
      "Epoch 73/100\n",
      "7/7 [==============================] - 2s 303ms/step - loss: 1.5944 - accuracy: 0.5810\n",
      "Epoch 74/100\n",
      "7/7 [==============================] - 2s 317ms/step - loss: 1.6467 - accuracy: 0.5357\n",
      "Epoch 75/100\n",
      "7/7 [==============================] - 2s 336ms/step - loss: 1.6009 - accuracy: 0.5237\n",
      "Epoch 76/100\n",
      "7/7 [==============================] - 2s 313ms/step - loss: 1.5767 - accuracy: 0.5576\n",
      "Epoch 77/100\n",
      "7/7 [==============================] - 2s 316ms/step - loss: 1.5961 - accuracy: 0.5820\n",
      "Epoch 78/100\n",
      "7/7 [==============================] - 2s 329ms/step - loss: 1.6072 - accuracy: 0.5475\n",
      "Epoch 79/100\n",
      "7/7 [==============================] - 3s 365ms/step - loss: 1.5993 - accuracy: 0.5552\n",
      "Epoch 80/100\n",
      "7/7 [==============================] - 3s 347ms/step - loss: 1.4633 - accuracy: 0.5995\n",
      "Epoch 81/100\n",
      "7/7 [==============================] - 2s 319ms/step - loss: 1.5161 - accuracy: 0.5741\n",
      "Epoch 82/100\n",
      "7/7 [==============================] - 2s 307ms/step - loss: 1.4031 - accuracy: 0.6417\n",
      "Epoch 83/100\n",
      "7/7 [==============================] - 2s 307ms/step - loss: 1.3979 - accuracy: 0.6692\n",
      "Epoch 84/100\n",
      "7/7 [==============================] - 2s 300ms/step - loss: 1.3388 - accuracy: 0.7044\n",
      "Epoch 85/100\n",
      "7/7 [==============================] - 2s 307ms/step - loss: 1.3554 - accuracy: 0.6509\n",
      "Epoch 86/100\n",
      "7/7 [==============================] - 2s 313ms/step - loss: 1.2769 - accuracy: 0.7425\n",
      "Epoch 87/100\n",
      "7/7 [==============================] - 2s 306ms/step - loss: 1.2872 - accuracy: 0.7078\n",
      "Epoch 88/100\n",
      "7/7 [==============================] - 2s 298ms/step - loss: 1.3248 - accuracy: 0.6833\n",
      "Epoch 89/100\n",
      "7/7 [==============================] - 2s 315ms/step - loss: 1.3295 - accuracy: 0.7016\n",
      "Epoch 90/100\n",
      "7/7 [==============================] - 2s 309ms/step - loss: 1.3032 - accuracy: 0.6949\n",
      "Epoch 91/100\n",
      "7/7 [==============================] - 2s 294ms/step - loss: 1.3624 - accuracy: 0.6084\n",
      "Epoch 92/100\n",
      "7/7 [==============================] - 2s 317ms/step - loss: 1.2345 - accuracy: 0.6941\n",
      "Epoch 93/100\n",
      "7/7 [==============================] - 2s 351ms/step - loss: 1.2626 - accuracy: 0.6869\n",
      "Epoch 94/100\n",
      "7/7 [==============================] - 2s 311ms/step - loss: 1.2200 - accuracy: 0.7061\n",
      "Epoch 95/100\n",
      "7/7 [==============================] - 2s 334ms/step - loss: 1.1919 - accuracy: 0.7189\n",
      "Epoch 96/100\n",
      "7/7 [==============================] - 2s 301ms/step - loss: 1.1966 - accuracy: 0.7056\n",
      "Epoch 97/100\n",
      "7/7 [==============================] - 2s 295ms/step - loss: 1.1066 - accuracy: 0.7718\n",
      "Epoch 98/100\n",
      "7/7 [==============================] - 2s 297ms/step - loss: 1.1835 - accuracy: 0.6559\n",
      "Epoch 99/100\n",
      "7/7 [==============================] - 2s 301ms/step - loss: 1.0604 - accuracy: 0.7580\n",
      "Epoch 100/100\n",
      "7/7 [==============================] - 2s 306ms/step - loss: 1.0928 - accuracy: 0.7682\n"
     ]
    }
   ],
   "source": [
    "# Train Model\n",
    "history = model.fit(data, labels, epochs=100, verbose=1)"
   ]
  },
  {
   "cell_type": "code",
   "execution_count": 14,
   "metadata": {},
   "outputs": [
    {
     "data": {
      "image/png": "[encoded data removed]",
      "text/plain": [
       "<Figure size 432x288 with 1 Axes>"
      ]
     },
     "metadata": {
      "needs_background": "light"
     },
     "output_type": "display_data"
    },
    {
     "data": {
      "image/png": "[encoded data removed]",
      "text/plain": [
       "<Figure size 432x288 with 1 Axes>"
      ]
     },
     "metadata": {
      "needs_background": "light"
     },
     "output_type": "display_data"
    }
   ],
   "source": [
    "import matplotlib.pyplot as plt\n",
    "acc = history.history['accuracy']\n",
    "loss = history.history['loss']\n",
    "epochs = range(len(acc))\n",
    "plt.plot(epochs, acc, 'b', label='Training accuracy')\n",
    "plt.title('Training accuracy')\n",
    "plt.figure()\n",
    "plt.plot(epochs, loss, 'b', label='Training Loss')\n",
    "plt.title('Training loss')\n",
    "plt.legend()\n",
    "plt.show()"
   ]
  },
  {
   "cell_type": "code",
   "execution_count": 12,
   "metadata": {},
   "outputs": [
    {
     "name": "stderr",
     "output_type": "stream",
     "text": [
      "c:\\Users\\tharl\\.conda\\envs\\ml\\lib\\site-packages\\tensorflow\\python\\keras\\engine\\sequential.py:450: UserWarning: `model.predict_classes()` is deprecated and will be removed after 2021-01-01. Please use instead:* `np.argmax(model.predict(x), axis=-1)`,   if your model does multi-class classification   (e.g. if it uses a `softmax` last-layer activation).* `(model.predict(x) > 0.5).astype(\"int32\")`,   if your model does binary classification   (e.g. if it uses a `sigmoid` last-layer activation).\n",
      "  warnings.warn('`model.predict_classes()` is deprecated and '\n"
     ]
    }
   ],
   "source": [
    "# Predict Outcome\n",
    "message = 'The rivers'\n",
    "size = 100\n",
    "\n",
    "for _ in range(size):\n",
    "\tsequence = tokenizer.texts_to_sequences([message])[0]\n",
    "\tsequence = pad_sequences([sequence], maxlen=max_length-1, padding='pre')\n",
    "\tprediction = model.predict_classes(sequence)\n",
    "\tindex = prediction[0]\n",
    "\tmessage += ' ' + tokenizer.index_word[index]"
   ]
  },
  {
   "cell_type": "code",
   "execution_count": 13,
   "metadata": {},
   "outputs": [
    {
     "data": {
      "text/plain": [
       "'The rivers cupola glinted the clouds shoneamong fir fir trees him him an hourfor the half half mile all the hill trailed the trailed the village trailed the village passed him greeted him him him greeted him him him against greeted him against fences against fences against fences against fences against fences against fences against fences against he stick he sculpted he yearned for the day when the road nowit above the road nowit nowit above the moon saints in frescoesmeet the eye and only the rain has started to cutthrough the shingles on the roof of his emptyhouse the apple trees'"
      ]
     },
     "execution_count": 13,
     "metadata": {},
     "output_type": "execute_result"
    }
   ],
   "source": [
    "message"
   ]
  }
 ],
 "metadata": {
  "kernelspec": {
   "display_name": "Python 3.7.6 ('ml')",
   "language": "python",
   "name": "python3"
  },
  "language_info": {
   "codemirror_mode": {
    "name": "ipython",
    "version": 3
   },
   "file_extension": ".py",
   "mimetype": "text/x-python",
   "name": "python",
   "nbconvert_exporter": "python",
   "pygments_lexer": "ipython3",
   "version": "3.7.6"
  },
  "orig_nbformat": 4,
  "vscode": {
   "interpreter": {
    "hash": "99cb5f365dcbb215e24de70d2dfef2ff7fc819860270d6d1736b61d26d60e744"
   }
  }
 },
 "nbformat": 4,
 "nbformat_minor": 2
}
